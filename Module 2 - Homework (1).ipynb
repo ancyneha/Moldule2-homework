{
 "cells": [
  {
   "cell_type": "markdown",
   "id": "c209b646",
   "metadata": {},
   "source": [
    "### Homework #2"
   ]
  },
  {
   "cell_type": "markdown",
   "id": "869ebfd6",
   "metadata": {},
   "source": [
    "1. Round 4.5667 to the nearest hundreth (2 decimals) using a build-in function, round()."
   ]
  },
  {
   "cell_type": "code",
   "execution_count": 1,
   "id": "123658aa",
   "metadata": {},
   "outputs": [
    {
     "data": {
      "text/plain": [
       "4.57"
      ]
     },
     "execution_count": 1,
     "metadata": {},
     "output_type": "execute_result"
    }
   ],
   "source": [
    "round(4.5667, 2)"
   ]
  },
  {
   "cell_type": "markdown",
   "id": "9d3f352c",
   "metadata": {},
   "source": [
    "2. Convert \"657\" to an integer data type"
   ]
  },
  {
   "cell_type": "code",
   "execution_count": 2,
   "id": "d5a67683",
   "metadata": {},
   "outputs": [
    {
     "data": {
      "text/plain": [
       "657"
      ]
     },
     "execution_count": 2,
     "metadata": {},
     "output_type": "execute_result"
    }
   ],
   "source": [
    "int(\"657\")"
   ]
  },
  {
   "cell_type": "markdown",
   "id": "a36f06d4",
   "metadata": {},
   "source": [
    "3. Write a program to get two numbers from a user. Then, create a 6-digit code that is a series of randomly generated numbers between the two numbers given by the user. Print the 6-digit code so all digits are separated by a dash. "
   ]
  },
  {
   "cell_type": "code",
   "execution_count": 5,
   "id": "021c92d4",
   "metadata": {},
   "outputs": [
    {
     "name": "stdout",
     "output_type": "stream",
     "text": [
      "Give me a number: 5\n",
      "Give me another number: 99\n"
     ]
    }
   ],
   "source": [
    "n1 = int(input(\"Give me a number: \"))\n",
    "n2 = int(input(\"Give me another number: \"))\n"
   ]
  },
  {
   "cell_type": "code",
   "execution_count": 69,
   "id": "36c847a1",
   "metadata": {},
   "outputs": [
    {
     "data": {
      "text/plain": [
       "78"
      ]
     },
     "execution_count": 69,
     "metadata": {},
     "output_type": "execute_result"
    }
   ],
   "source": [
    "import random as rand \n",
    "rand.randint(n1, n2)\n"
   ]
  },
  {
   "cell_type": "markdown",
   "id": "ee1441a1",
   "metadata": {},
   "source": [
    "4. Write a program to remove ALL the white spaces from the following text:\n",
    "\n",
    "        Hickory, dickory, dock,     \n",
    "        The mouse ran up the clock.   \n",
    "        The clock struck one,   \n",
    "        The mouse ran down,                      \n",
    "        Hickory, dickory, dock                  "
   ]
  },
  {
   "cell_type": "code",
   "execution_count": 34,
   "id": "0c9995bb",
   "metadata": {},
   "outputs": [],
   "source": [
    "song = \" Hickory, dickory, dock, The mouse ran up the clock. The clock struck one, The mouse ran down, Hickory, dickory, dock \""
   ]
  },
  {
   "cell_type": "code",
   "execution_count": 36,
   "id": "f4e6db17",
   "metadata": {},
   "outputs": [
    {
     "name": "stdout",
     "output_type": "stream",
     "text": [
      "Hickory,dickory,dock,Themouseranuptheclock.Theclockstruckone,Themouserandown,Hickory,dickory,dock\n"
     ]
    }
   ],
   "source": [
    "print(song.replace(\" \", \"\"))"
   ]
  },
  {
   "cell_type": "code",
   "execution_count": 37,
   "id": "64fca987",
   "metadata": {},
   "outputs": [
    {
     "data": {
      "text/plain": [
       "'Hickory, dickory, dock, The mouse ran up the clock. The clock struck one, The mouse ran down, Hickory, dickory, dock'"
      ]
     },
     "execution_count": 37,
     "metadata": {},
     "output_type": "execute_result"
    }
   ],
   "source": [
    "song.strip()"
   ]
  },
  {
   "cell_type": "markdown",
   "id": "72d87b5b",
   "metadata": {},
   "source": [
    "5. Write a function to calculate the miles per gallon. Get a miles driven and gallons used from a user and call your function to calculate the miles per gallon."
   ]
  },
  {
   "cell_type": "code",
   "execution_count": 58,
   "id": "a1c137c5",
   "metadata": {},
   "outputs": [
    {
     "name": "stdout",
     "output_type": "stream",
     "text": [
      "Please enter miles: 560\n",
      "Please enter the gallon: 45\n",
      "miles per gallon is 12.444444444444445\n"
     ]
    }
   ],
   "source": [
    "# defining the function\n",
    "def compute(m, g):\n",
    "        M = m/g\n",
    "        print(f\"miles per gallon is {M}\")\n",
    "\n",
    "# using the function to compute specific values\n",
    "\n",
    "m = int(input(\"Please enter miles: \"))\n",
    "g = int(input(\"Please enter the gallon: \"))\n",
    "    \n",
    "# apply the function to the user defined values \n",
    "compute (m , g)"
   ]
  },
  {
   "cell_type": "code",
   "execution_count": null,
   "id": "d2ca1327",
   "metadata": {},
   "outputs": [],
   "source": [
    "# 6. Enhance the <b>compute()</b> function created during Module 2. Enhance the function to compute a circle's area and circumference where:\n",
    "\n",
    " - circle's area = 3.14 X (radius X radius)   \n",
    " - circle's circumference = 3.14 X diameter"
   ]
  },
  {
   "cell_type": "code",
   "execution_count": 38,
   "id": "df43daca",
   "metadata": {},
   "outputs": [
    {
     "name": "stdout",
     "output_type": "stream",
     "text": [
      "The Area and Circumference Program\n",
      "Please enter radius:  6\n",
      "Area is 113.04\n",
      "Circumference is 37.68\n"
     ]
    }
   ],
   "source": [
    "# defining the function \n",
    "\n",
    "def compute(r, d):\n",
    "    A = 3.14 * (r**2)\n",
    "    C = 3.14 * d\n",
    "    print(f\"Area is {A}\")\n",
    "    print(f\"Circumference is {C}\")\n",
    "    \n",
    "    # using the function to compute specific values\n",
    "\n",
    "print(\"The Area and Circumference Program\")  \n",
    "\n",
    "radius = int(input(\"Please enter radius:  \"))\n",
    "diameter = radius * 2\n",
    "\n",
    "# apply the function to the user defined values \n",
    "\n",
    "compute(radius, diameter)\n"
   ]
  },
  {
   "cell_type": "code",
   "execution_count": null,
   "id": "fa8de89a",
   "metadata": {},
   "outputs": [],
   "source": []
  },
  {
   "cell_type": "markdown",
   "id": "4c5d83bb",
   "metadata": {},
   "source": [
    "7. Write a function called multiply_two() that accepts two parameters. The function should print a message like '15 * 2 = 30'.  Randomly generate two numbers between 1 and 100, then call the function with the two random numbers."
   ]
  },
  {
   "cell_type": "code",
   "execution_count": 72,
   "id": "fe5ca2dc",
   "metadata": {},
   "outputs": [
    {
     "name": "stdout",
     "output_type": "stream",
     "text": [
      "Give me a number: 20\n",
      "Give me another number: 34\n"
     ]
    }
   ],
   "source": [
    "# defining the function \n",
    "import random as rand\n",
    "def multiple_two(n1, n2):\n",
    "     n1 = rand.randint(1, 100)\n",
    "    n2 = rand.randint(1,100)\n",
    "n1 = int(input(\"Give me a number: \"))\n",
    "n2 = int(input(\"Give me another number: \"))\n",
    "    \n"
   ]
  },
  {
   "cell_type": "code",
   "execution_count": 79,
   "id": "9f83774c",
   "metadata": {},
   "outputs": [
    {
     "name": "stdout",
     "output_type": "stream",
     "text": [
      "20\n",
      "40\n",
      "34\n",
      "68\n"
     ]
    }
   ],
   "source": [
    "print(n1)\n",
    "print(2 * n1) \n",
    "print(n2)\n",
    "print(2 *n2)"
   ]
  },
  {
   "cell_type": "markdown",
   "id": "36865477",
   "metadata": {},
   "source": [
    "8. Create a function for a multiplication table.  Get a number from a user and then call you function which produces a multiplication table for that number.\n",
    "The output should look something like this:\n",
    "\n",
    "        Enter a number: 3\n",
    "        3 X 1 = 3\n",
    "        3 X 2 = 6\n",
    "        3 X 3 = 9\n",
    "        3 X 4 = 12\n",
    "        3 X 5 = 15\n",
    "        3 X 6 = 18\n",
    "        3 X 7 = 21\n",
    "        3 X 8 = 24\n",
    "        3 X 9 = 27"
   ]
  },
  {
   "cell_type": "code",
   "execution_count": 92,
   "id": "b023e863",
   "metadata": {},
   "outputs": [],
   "source": [
    "# defining the function \n",
    "\n",
    "def multiply_table(a):\n",
    "    \n",
    "    number = int(input(\"Enter a number: \"))\n",
    "\n",
    "    \n",
    "\n"
   ]
  },
  {
   "cell_type": "code",
   "execution_count": null,
   "id": "563c8445",
   "metadata": {},
   "outputs": [],
   "source": []
  }
 ],
 "metadata": {
  "kernelspec": {
   "display_name": "Python 3",
   "language": "python",
   "name": "python3"
  },
  "language_info": {
   "codemirror_mode": {
    "name": "ipython",
    "version": 3
   },
   "file_extension": ".py",
   "mimetype": "text/x-python",
   "name": "python",
   "nbconvert_exporter": "python",
   "pygments_lexer": "ipython3",
   "version": "3.8.8"
  }
 },
 "nbformat": 4,
 "nbformat_minor": 5
}
